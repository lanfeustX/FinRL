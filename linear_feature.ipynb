{
 "cells": [
  {
   "cell_type": "code",
   "execution_count": 1,
   "metadata": {},
   "outputs": [],
   "source": [
    "import pandas as pd \n",
    "import numpy as np\n",
    "import f \n",
    "from Dora import Dora \n",
    "from matplotlib import pyplot\n",
    "import math\n",
    "import random\n",
    "from matplotlib.patches import Rectangle\n",
    "from types import MethodType\n",
    "import matplotlib.dates as mdates\n",
    "import datetime"
   ]
  },
  {
   "cell_type": "code",
   "execution_count": 2,
   "metadata": {},
   "outputs": [],
   "source": [
    "from sklearn import linear_model\n",
    "model = linear_model.LinearRegression()"
   ]
  },
  {
   "cell_type": "code",
   "execution_count": 3,
   "metadata": {},
   "outputs": [
    {
     "name": "stderr",
     "output_type": "stream",
     "text": [
      "<ipython-input-3-23db3ce10805>:3: FutureWarning: The pandas.np module is deprecated and will be removed from pandas in a future version. Import numpy directly instead\n",
      "  df.spread = df.iloc[::-1].rolling(40).apply(lambda x: pd.np.sum(x))['spread'][::-1]\n",
      "<ipython-input-3-23db3ce10805>:4: FutureWarning: The pandas.np module is deprecated and will be removed from pandas in a future version. Import numpy directly instead\n",
      "  df.volume = df.rolling(40).apply(lambda x: pd.np.sum(x))['volume']\n"
     ]
    },
    {
     "data": {
      "text/html": [
       "<div>\n",
       "<style scoped>\n",
       "    .dataframe tbody tr th:only-of-type {\n",
       "        vertical-align: middle;\n",
       "    }\n",
       "\n",
       "    .dataframe tbody tr th {\n",
       "        vertical-align: top;\n",
       "    }\n",
       "\n",
       "    .dataframe thead th {\n",
       "        text-align: right;\n",
       "    }\n",
       "</style>\n",
       "<table border=\"1\" class=\"dataframe\">\n",
       "  <thead>\n",
       "    <tr style=\"text-align: right;\">\n",
       "      <th></th>\n",
       "      <th>spread</th>\n",
       "      <th>volume</th>\n",
       "    </tr>\n",
       "  </thead>\n",
       "  <tbody>\n",
       "    <tr>\n",
       "      <th>2017-03-01</th>\n",
       "      <td>-2.446667</td>\n",
       "      <td>5298000.0</td>\n",
       "    </tr>\n",
       "    <tr>\n",
       "      <th>2017-03-02</th>\n",
       "      <td>-2.836840</td>\n",
       "      <td>4457500.0</td>\n",
       "    </tr>\n",
       "    <tr>\n",
       "      <th>2017-03-03</th>\n",
       "      <td>-2.278893</td>\n",
       "      <td>2132500.0</td>\n",
       "    </tr>\n",
       "    <tr>\n",
       "      <th>2017-03-06</th>\n",
       "      <td>-2.368633</td>\n",
       "      <td>1604500.0</td>\n",
       "    </tr>\n",
       "    <tr>\n",
       "      <th>2017-03-07</th>\n",
       "      <td>-2.737996</td>\n",
       "      <td>3429500.0</td>\n",
       "    </tr>\n",
       "    <tr>\n",
       "      <th>...</th>\n",
       "      <td>...</td>\n",
       "      <td>...</td>\n",
       "    </tr>\n",
       "    <tr>\n",
       "      <th>2022-01-24</th>\n",
       "      <td>4.017194</td>\n",
       "      <td>5955000.0</td>\n",
       "    </tr>\n",
       "    <tr>\n",
       "      <th>2022-01-25</th>\n",
       "      <td>3.781790</td>\n",
       "      <td>3330000.0</td>\n",
       "    </tr>\n",
       "    <tr>\n",
       "      <th>2022-01-26</th>\n",
       "      <td>3.210837</td>\n",
       "      <td>-20000.0</td>\n",
       "    </tr>\n",
       "    <tr>\n",
       "      <th>2022-01-27</th>\n",
       "      <td>3.918350</td>\n",
       "      <td>-220000.0</td>\n",
       "    </tr>\n",
       "    <tr>\n",
       "      <th>2022-01-28</th>\n",
       "      <td>4.400864</td>\n",
       "      <td>-2070000.0</td>\n",
       "    </tr>\n",
       "  </tbody>\n",
       "</table>\n",
       "<p>1247 rows × 2 columns</p>\n",
       "</div>"
      ],
      "text/plain": [
       "              spread     volume\n",
       "2017-03-01 -2.446667  5298000.0\n",
       "2017-03-02 -2.836840  4457500.0\n",
       "2017-03-03 -2.278893  2132500.0\n",
       "2017-03-06 -2.368633  1604500.0\n",
       "2017-03-07 -2.737996  3429500.0\n",
       "...              ...        ...\n",
       "2022-01-24  4.017194  5955000.0\n",
       "2022-01-25  3.781790  3330000.0\n",
       "2022-01-26  3.210837   -20000.0\n",
       "2022-01-27  3.918350  -220000.0\n",
       "2022-01-28  4.400864 -2070000.0\n",
       "\n",
       "[1247 rows x 2 columns]"
      ]
     },
     "execution_count": 3,
     "metadata": {},
     "output_type": "execute_result"
    }
   ],
   "source": [
    "df = pd.read_excel('spread.xlsx', index_col=(0))\n",
    "df.rename(columns={'rfq':'volume'}, inplace=True)\n",
    "df.spread = df.iloc[::-1].rolling(40).apply(lambda x: pd.np.sum(x))['spread'][::-1]\n",
    "df.volume = df.rolling(40).apply(lambda x: pd.np.sum(x))['volume']\n",
    "df.dropna(inplace=True)\n",
    "dora = Dora(output = 'spread', data = df)\n",
    "\n",
    "def new_set_training_and_validation(self):\n",
    "    training_rows = np.arange(0,len(self.data))/len(self.data) < 0.8\n",
    "    a = np.random.randint(0,len(self.data))\n",
    "    training_rows = list(training_rows[a:]) + list(training_rows[:a])\n",
    "    training_rows = np.array(training_rows)\n",
    "    self.training_data = self.data[training_rows]\n",
    "    self.validation_data = self.data[~training_rows]\n",
    "\n",
    "dora.set_training_and_validation = MethodType(new_set_training_and_validation, dora)\n",
    "\n",
    "#for i in range(dora.data.shape[0]):\n",
    "#    dora.data['volume'].iloc[i] = random.randint(-10,10)\n",
    "dora.snapshot('transform1')\n",
    "dora.data"
   ]
  },
  {
   "cell_type": "code",
   "execution_count": 4,
   "metadata": {},
   "outputs": [
    {
     "name": "stderr",
     "output_type": "stream",
     "text": [
      "<ipython-input-4-396155b3e534>:12: UserWarning: Pandas doesn't allow columns to be created via a new attribute name - see https://pandas.pydata.org/pandas-docs/stable/indexing.html#attribute-access\n",
      "  dff.volumecum = dff.volume.cumsum()\n",
      "<ipython-input-4-396155b3e534>:13: UserWarning: Pandas doesn't allow columns to be created via a new attribute name - see https://pandas.pydata.org/pandas-docs/stable/indexing.html#attribute-access\n",
      "  dff.spreadcum = dff.spread.cumsum()\n"
     ]
    },
    {
     "data": {
      "text/plain": [
       "<AxesSubplot:label='071376fc-8715-4889-988c-57ae9fa5e5c7'>"
      ]
     },
     "execution_count": 4,
     "metadata": {},
     "output_type": "execute_result"
    },
    {
     "data": {
      "image/png": "[encoded data removed]",
      "text/plain": [
       "<Figure size 1080x720 with 4 Axes>"
      ]
     },
     "metadata": {
      "needs_background": "light"
     },
     "output_type": "display_data"
    }
   ],
   "source": [
    "dff = df.copy()\n",
    "deb = 0\n",
    "leng = 3000\n",
    "deb_df = 12266\n",
    "\n",
    "mean_sp = df.spread.mean()\n",
    "sigma_sp = df.spread.std()\n",
    "mean_vol = df.volume.mean()\n",
    "sigma_vol = df.volume.std()\n",
    "\n",
    "dff = dff.iloc[deb:deb+leng,:]\n",
    "dff.volumecum = dff.volume.cumsum()\n",
    "dff.spreadcum = dff.spread.cumsum()\n",
    "minn = dff.volumecum.min()\n",
    "height = dff.volumecum.max() - minn\n",
    "\n",
    "tresh = 2\n",
    "\n",
    "fig, axs = pyplot.subplots(2)\n",
    "\n",
    "for i in dff.index:\n",
    "    \n",
    "    startTime = i - datetime.timedelta(days = 1)\n",
    "    endTime = startTime + datetime.timedelta(days = 1)\n",
    "    start = mdates.date2num(startTime)\n",
    "    end = mdates.date2num(endTime)\n",
    "    width = end - start\n",
    "    \n",
    "    if dff.spread[i] > mean_sp + tresh*sigma_sp:\n",
    "        if dff.volume[i] < mean_vol - tresh*sigma_vol:\n",
    "            axs[0].add_patch(Rectangle((start,minn), width, height,color=\"purple\"))\n",
    "        else:\n",
    "            axs[0].add_patch(Rectangle((start,minn), width, height,color=\"crimson\"))\n",
    "    else:\n",
    "        if dff.volume[i] < mean_vol - tresh*sigma_vol:\n",
    "            axs[0].add_patch(Rectangle((start,minn), width, height,color=\"dodgerblue\"))\n",
    "        \n",
    "    if dff.spread[i] < mean_sp - tresh*sigma_sp:\n",
    "        if dff.volume[i] > mean_vol + tresh*sigma_vol:\n",
    "            axs[1].add_patch(Rectangle((start,minn), width, height,color=\"purple\"))\n",
    "        else:\n",
    "            axs[1].add_patch(Rectangle((start,minn), width, height,color=\"crimson\"))\n",
    "    else:\n",
    "        if dff.volume[i] > mean_vol + tresh*sigma_vol:\n",
    "            axs[1].add_patch(Rectangle((start,minn), width, height,color=\"dodgerblue\"))\n",
    "            \n",
    "locator = mdates.AutoDateLocator(minticks=3)\n",
    "formatter = mdates.AutoDateFormatter(locator)\n",
    "axs[0].xaxis.set_major_locator(locator)\n",
    "axs[0].xaxis.set_major_formatter(formatter)\n",
    "axs[1].xaxis.set_major_locator(locator)\n",
    "axs[1].xaxis.set_major_formatter(formatter)\n",
    "\n",
    "fig.set_figheight(10)\n",
    "fig.set_figwidth(15)\n",
    "dff.volumecum.plot(style = 'b', legend = 'eee', ax = axs[0])\n",
    "dff.spreadcum.plot(secondary_y=True, style='red', legend = 'eee', ax = axs[0])\n",
    "dff.volumecum.plot(style = 'b', legend = 'eee', ax = axs[1])\n",
    "dff.spreadcum.plot(secondary_y=True, style='red', legend = 'eee', ax = axs[1])"
   ]
  },
  {
   "cell_type": "code",
   "execution_count": 5,
   "metadata": {},
   "outputs": [
    {
     "name": "stderr",
     "output_type": "stream",
     "text": [
      "C:\\Users\\ut34u3\\My_IT_Applications\\Anaconda\\lib\\site-packages\\Dora\\main.py:80: UserWarning: Matplotlib is currently using module://ipykernel.pylab.backend_inline, which is a non-GUI backend, so cannot show the figure.\n",
      "  fig.show()\n"
     ]
    },
    {
     "data": {
      "image/png": "[encoded data removed]",
      "text/plain": [
       "<Figure size 432x288 with 1 Axes>"
      ]
     },
     "metadata": {
      "needs_background": "light"
     },
     "output_type": "display_data"
    }
   ],
   "source": [
    "dora.plot_feature('volume')"
   ]
  },
  {
   "cell_type": "code",
   "execution_count": 6,
   "metadata": {},
   "outputs": [
    {
     "name": "stderr",
     "output_type": "stream",
     "text": [
      "<ipython-input-6-9f046c8c8b40>:6: FutureWarning: The pandas.np module is deprecated and will be removed from pandas in a future version. Import numpy directly instead\n",
      "  dora.data['flow_roll_var_'+str(i)] = dora.data.rolling(i).apply(lambda x: pd.np.std(x))['volume']\n"
     ]
    },
    {
     "data": {
      "text/html": [
       "<div>\n",
       "<style scoped>\n",
       "    .dataframe tbody tr th:only-of-type {\n",
       "        vertical-align: middle;\n",
       "    }\n",
       "\n",
       "    .dataframe tbody tr th {\n",
       "        vertical-align: top;\n",
       "    }\n",
       "\n",
       "    .dataframe thead th {\n",
       "        text-align: right;\n",
       "    }\n",
       "</style>\n",
       "<table border=\"1\" class=\"dataframe\">\n",
       "  <thead>\n",
       "    <tr style=\"text-align: right;\">\n",
       "      <th></th>\n",
       "      <th>spread</th>\n",
       "      <th>volume</th>\n",
       "      <th>flow_roll_mean_5</th>\n",
       "      <th>flow_roll_var_5</th>\n",
       "      <th>flow_Z_score_5</th>\n",
       "      <th>flow_roll_mean_10</th>\n",
       "      <th>flow_roll_var_10</th>\n",
       "      <th>flow_Z_score_10</th>\n",
       "      <th>flow_roll_mean_60</th>\n",
       "      <th>flow_roll_var_60</th>\n",
       "      <th>flow_Z_score_60</th>\n",
       "      <th>flow_roll_mean_250</th>\n",
       "      <th>flow_roll_var_250</th>\n",
       "      <th>flow_Z_score_250</th>\n",
       "    </tr>\n",
       "  </thead>\n",
       "  <tbody>\n",
       "    <tr>\n",
       "      <th>2018-02-26</th>\n",
       "      <td>-3.314151</td>\n",
       "      <td>0.309886</td>\n",
       "      <td>0.531384</td>\n",
       "      <td>0.169438</td>\n",
       "      <td>-1.307249</td>\n",
       "      <td>0.705173</td>\n",
       "      <td>0.219771</td>\n",
       "      <td>-1.798634</td>\n",
       "      <td>0.369647</td>\n",
       "      <td>0.973226</td>\n",
       "      <td>-0.061405</td>\n",
       "      <td>0.241539</td>\n",
       "      <td>0.582511</td>\n",
       "      <td>0.117331</td>\n",
       "    </tr>\n",
       "    <tr>\n",
       "      <th>2018-02-27</th>\n",
       "      <td>-3.054036</td>\n",
       "      <td>0.361754</td>\n",
       "      <td>0.440506</td>\n",
       "      <td>0.099939</td>\n",
       "      <td>-0.788003</td>\n",
       "      <td>0.638621</td>\n",
       "      <td>0.212812</td>\n",
       "      <td>-1.300997</td>\n",
       "      <td>0.392531</td>\n",
       "      <td>0.956486</td>\n",
       "      <td>-0.032177</td>\n",
       "      <td>0.241219</td>\n",
       "      <td>0.582423</td>\n",
       "      <td>0.206954</td>\n",
       "    </tr>\n",
       "    <tr>\n",
       "      <th>2018-02-28</th>\n",
       "      <td>-2.133229</td>\n",
       "      <td>0.273501</td>\n",
       "      <td>0.407260</td>\n",
       "      <td>0.120252</td>\n",
       "      <td>-1.112324</td>\n",
       "      <td>0.576834</td>\n",
       "      <td>0.220031</td>\n",
       "      <td>-1.378589</td>\n",
       "      <td>0.414208</td>\n",
       "      <td>0.938638</td>\n",
       "      <td>-0.149905</td>\n",
       "      <td>0.240783</td>\n",
       "      <td>0.582358</td>\n",
       "      <td>0.056182</td>\n",
       "    </tr>\n",
       "    <tr>\n",
       "      <th>2018-03-01</th>\n",
       "      <td>-2.458372</td>\n",
       "      <td>0.210161</td>\n",
       "      <td>0.330591</td>\n",
       "      <td>0.097028</td>\n",
       "      <td>-1.241187</td>\n",
       "      <td>0.508923</td>\n",
       "      <td>0.217911</td>\n",
       "      <td>-1.371023</td>\n",
       "      <td>0.434952</td>\n",
       "      <td>0.919960</td>\n",
       "      <td>-0.244348</td>\n",
       "      <td>0.240748</td>\n",
       "      <td>0.582359</td>\n",
       "      <td>-0.052522</td>\n",
       "    </tr>\n",
       "    <tr>\n",
       "      <th>2018-03-02</th>\n",
       "      <td>-2.669066</td>\n",
       "      <td>0.099845</td>\n",
       "      <td>0.251029</td>\n",
       "      <td>0.090284</td>\n",
       "      <td>-1.674545</td>\n",
       "      <td>0.437927</td>\n",
       "      <td>0.223889</td>\n",
       "      <td>-1.510044</td>\n",
       "      <td>0.455312</td>\n",
       "      <td>0.898551</td>\n",
       "      <td>-0.395600</td>\n",
       "      <td>0.240420</td>\n",
       "      <td>0.582415</td>\n",
       "      <td>-0.241366</td>\n",
       "    </tr>\n",
       "    <tr>\n",
       "      <th>...</th>\n",
       "      <td>...</td>\n",
       "      <td>...</td>\n",
       "      <td>...</td>\n",
       "      <td>...</td>\n",
       "      <td>...</td>\n",
       "      <td>...</td>\n",
       "      <td>...</td>\n",
       "      <td>...</td>\n",
       "      <td>...</td>\n",
       "      <td>...</td>\n",
       "      <td>...</td>\n",
       "      <td>...</td>\n",
       "      <td>...</td>\n",
       "      <td>...</td>\n",
       "    </tr>\n",
       "    <tr>\n",
       "      <th>2022-01-24</th>\n",
       "      <td>4.017194</td>\n",
       "      <td>0.487940</td>\n",
       "      <td>1.410163</td>\n",
       "      <td>0.462534</td>\n",
       "      <td>-1.993848</td>\n",
       "      <td>1.576587</td>\n",
       "      <td>0.372977</td>\n",
       "      <td>-2.918804</td>\n",
       "      <td>0.835226</td>\n",
       "      <td>0.745705</td>\n",
       "      <td>-0.465714</td>\n",
       "      <td>0.306259</td>\n",
       "      <td>0.925387</td>\n",
       "      <td>0.196330</td>\n",
       "    </tr>\n",
       "    <tr>\n",
       "      <th>2022-01-25</th>\n",
       "      <td>3.781790</td>\n",
       "      <td>0.303200</td>\n",
       "      <td>1.129935</td>\n",
       "      <td>0.602640</td>\n",
       "      <td>-1.371855</td>\n",
       "      <td>1.422415</td>\n",
       "      <td>0.519899</td>\n",
       "      <td>-2.152758</td>\n",
       "      <td>0.826848</td>\n",
       "      <td>0.748805</td>\n",
       "      <td>-0.699312</td>\n",
       "      <td>0.308758</td>\n",
       "      <td>0.924532</td>\n",
       "      <td>-0.006011</td>\n",
       "    </tr>\n",
       "    <tr>\n",
       "      <th>2022-01-26</th>\n",
       "      <td>3.210837</td>\n",
       "      <td>0.067436</td>\n",
       "      <td>0.815152</td>\n",
       "      <td>0.661482</td>\n",
       "      <td>-1.130364</td>\n",
       "      <td>1.242380</td>\n",
       "      <td>0.633753</td>\n",
       "      <td>-1.853946</td>\n",
       "      <td>0.814835</td>\n",
       "      <td>0.755084</td>\n",
       "      <td>-0.989822</td>\n",
       "      <td>0.309960</td>\n",
       "      <td>0.924021</td>\n",
       "      <td>-0.262466</td>\n",
       "    </tr>\n",
       "    <tr>\n",
       "      <th>2022-01-27</th>\n",
       "      <td>3.918350</td>\n",
       "      <td>0.053361</td>\n",
       "      <td>0.501080</td>\n",
       "      <td>0.569407</td>\n",
       "      <td>-0.786289</td>\n",
       "      <td>1.082015</td>\n",
       "      <td>0.707185</td>\n",
       "      <td>-1.454576</td>\n",
       "      <td>0.802411</td>\n",
       "      <td>0.761352</td>\n",
       "      <td>-0.983842</td>\n",
       "      <td>0.310702</td>\n",
       "      <td>0.923740</td>\n",
       "      <td>-0.278586</td>\n",
       "    </tr>\n",
       "    <tr>\n",
       "      <th>2022-01-28</th>\n",
       "      <td>4.400864</td>\n",
       "      <td>-0.076837</td>\n",
       "      <td>0.167020</td>\n",
       "      <td>0.201909</td>\n",
       "      <td>-1.207757</td>\n",
       "      <td>0.909528</td>\n",
       "      <td>0.756713</td>\n",
       "      <td>-1.303486</td>\n",
       "      <td>0.788228</td>\n",
       "      <td>0.769628</td>\n",
       "      <td>-1.124004</td>\n",
       "      <td>0.310713</td>\n",
       "      <td>0.923736</td>\n",
       "      <td>-0.419546</td>\n",
       "    </tr>\n",
       "  </tbody>\n",
       "</table>\n",
       "<p>998 rows × 14 columns</p>\n",
       "</div>"
      ],
      "text/plain": [
       "              spread    volume  flow_roll_mean_5  flow_roll_var_5  \\\n",
       "2018-02-26 -3.314151  0.309886          0.531384         0.169438   \n",
       "2018-02-27 -3.054036  0.361754          0.440506         0.099939   \n",
       "2018-02-28 -2.133229  0.273501          0.407260         0.120252   \n",
       "2018-03-01 -2.458372  0.210161          0.330591         0.097028   \n",
       "2018-03-02 -2.669066  0.099845          0.251029         0.090284   \n",
       "...              ...       ...               ...              ...   \n",
       "2022-01-24  4.017194  0.487940          1.410163         0.462534   \n",
       "2022-01-25  3.781790  0.303200          1.129935         0.602640   \n",
       "2022-01-26  3.210837  0.067436          0.815152         0.661482   \n",
       "2022-01-27  3.918350  0.053361          0.501080         0.569407   \n",
       "2022-01-28  4.400864 -0.076837          0.167020         0.201909   \n",
       "\n",
       "            flow_Z_score_5  flow_roll_mean_10  flow_roll_var_10  \\\n",
       "2018-02-26       -1.307249           0.705173          0.219771   \n",
       "2018-02-27       -0.788003           0.638621          0.212812   \n",
       "2018-02-28       -1.112324           0.576834          0.220031   \n",
       "2018-03-01       -1.241187           0.508923          0.217911   \n",
       "2018-03-02       -1.674545           0.437927          0.223889   \n",
       "...                    ...                ...               ...   \n",
       "2022-01-24       -1.993848           1.576587          0.372977   \n",
       "2022-01-25       -1.371855           1.422415          0.519899   \n",
       "2022-01-26       -1.130364           1.242380          0.633753   \n",
       "2022-01-27       -0.786289           1.082015          0.707185   \n",
       "2022-01-28       -1.207757           0.909528          0.756713   \n",
       "\n",
       "            flow_Z_score_10  flow_roll_mean_60  flow_roll_var_60  \\\n",
       "2018-02-26        -1.798634           0.369647          0.973226   \n",
       "2018-02-27        -1.300997           0.392531          0.956486   \n",
       "2018-02-28        -1.378589           0.414208          0.938638   \n",
       "2018-03-01        -1.371023           0.434952          0.919960   \n",
       "2018-03-02        -1.510044           0.455312          0.898551   \n",
       "...                     ...                ...               ...   \n",
       "2022-01-24        -2.918804           0.835226          0.745705   \n",
       "2022-01-25        -2.152758           0.826848          0.748805   \n",
       "2022-01-26        -1.853946           0.814835          0.755084   \n",
       "2022-01-27        -1.454576           0.802411          0.761352   \n",
       "2022-01-28        -1.303486           0.788228          0.769628   \n",
       "\n",
       "            flow_Z_score_60  flow_roll_mean_250  flow_roll_var_250  \\\n",
       "2018-02-26        -0.061405            0.241539           0.582511   \n",
       "2018-02-27        -0.032177            0.241219           0.582423   \n",
       "2018-02-28        -0.149905            0.240783           0.582358   \n",
       "2018-03-01        -0.244348            0.240748           0.582359   \n",
       "2018-03-02        -0.395600            0.240420           0.582415   \n",
       "...                     ...                 ...                ...   \n",
       "2022-01-24        -0.465714            0.306259           0.925387   \n",
       "2022-01-25        -0.699312            0.308758           0.924532   \n",
       "2022-01-26        -0.989822            0.309960           0.924021   \n",
       "2022-01-27        -0.983842            0.310702           0.923740   \n",
       "2022-01-28        -1.124004            0.310713           0.923736   \n",
       "\n",
       "            flow_Z_score_250  \n",
       "2018-02-26          0.117331  \n",
       "2018-02-27          0.206954  \n",
       "2018-02-28          0.056182  \n",
       "2018-03-01         -0.052522  \n",
       "2018-03-02         -0.241366  \n",
       "...                      ...  \n",
       "2022-01-24          0.196330  \n",
       "2022-01-25         -0.006011  \n",
       "2022-01-26         -0.262466  \n",
       "2022-01-27         -0.278586  \n",
       "2022-01-28         -0.419546  \n",
       "\n",
       "[998 rows x 14 columns]"
      ]
     },
     "execution_count": 6,
     "metadata": {},
     "output_type": "execute_result"
    }
   ],
   "source": [
    "dora.scale_input_values()\n",
    "flow_roll_level = [5, 10, 15, 30, 60, 90, 120, 150, 200, 250, 300, 350, 400]\n",
    "flow_roll_level = [5, 10, 60, 250]\n",
    "for i in flow_roll_level:\n",
    "    dora.data['flow_roll_mean_'+str(i)] = dora.data.rolling(i).mean()['volume']\n",
    "    dora.data['flow_roll_var_'+str(i)] = dora.data.rolling(i).apply(lambda x: pd.np.std(x))['volume']\n",
    "    dora.data['flow_Z_score_'+str(i)] = (dora.data['volume']-dora.data['flow_roll_mean_'+str(i)])/dora.data['flow_roll_var_'+str(i)]\n",
    "dora.data.dropna(inplace=True)\n",
    "dora.data"
   ]
  },
  {
   "cell_type": "code",
   "execution_count": 7,
   "metadata": {},
   "outputs": [],
   "source": [
    "dora.snapshot('transform2')"
   ]
  },
  {
   "cell_type": "code",
   "execution_count": 8,
   "metadata": {},
   "outputs": [],
   "source": [
    "dora.use_snapshot('transform2')"
   ]
  },
  {
   "cell_type": "code",
   "execution_count": 9,
   "metadata": {},
   "outputs": [],
   "source": [
    "dora.snapshot('transform3')"
   ]
  },
  {
   "cell_type": "code",
   "execution_count": 10,
   "metadata": {},
   "outputs": [],
   "source": [
    "dora.use_snapshot('transform3')"
   ]
  },
  {
   "cell_type": "code",
   "execution_count": 11,
   "metadata": {
    "scrolled": false
   },
   "outputs": [],
   "source": [
    "#for i in range(dora.data.shape[1]):\n",
    "#    dora.plot_feature(dora.data.columns[i])"
   ]
  },
  {
   "cell_type": "code",
   "execution_count": 12,
   "metadata": {},
   "outputs": [
    {
     "name": "stdout",
     "output_type": "stream",
     "text": [
      "{'volume': -13.519853481916066, 'flow_roll_mean_5': 6.9099437844147085, 'flow_roll_var_5': 2.159306795608427, 'flow_Z_score_5': -0.4792617213175731, 'flow_roll_mean_10': 5.037947912957421, 'flow_roll_var_10': -1.6955192604955618, 'flow_Z_score_10': 2.581580291476661, 'flow_roll_mean_60': -2.0080723313080826, 'flow_roll_var_60': -4.450828904403353, 'flow_Z_score_60': -2.8253744720679896, 'flow_roll_mean_250': -0.1430104574098257, 'flow_roll_var_250': -8.21811543310046, 'flow_Z_score_250': 2.5845188816778903}\n"
     ]
    },
    {
     "data": {
      "image/png": "[encoded data removed]",
      "text/plain": [
       "<Figure size 432x288 with 1 Axes>"
      ]
     },
     "metadata": {
      "needs_background": "light"
     },
     "output_type": "display_data"
    },
    {
     "name": "stdout",
     "output_type": "stream",
     "text": [
      "-6.021409400785491\n"
     ]
    }
   ],
   "source": [
    "l = []\n",
    "imp = {}\n",
    "for i in range(1000):\n",
    "    dora.set_training_and_validation()\n",
    "    X = dora.training_data[dora.input_columns()]\n",
    "    y = dora.training_data[dora.output]\n",
    "    reg = model\n",
    "    reg.fit(X, y)\n",
    "    X = dora.validation_data[dora.input_columns()]\n",
    "    y = dora.validation_data[dora.output]\n",
    "    l.append(reg.score(X,y))\n",
    "    importance = reg.coef_\n",
    "    imp\n",
    "    for j,v in enumerate(importance):\n",
    "        if i == 0:\n",
    "            imp[dora.input_columns()[j]] = [v]\n",
    "        else:\n",
    "            imp[dora.input_columns()[j]].append(v)\n",
    "\n",
    "for key in imp:\n",
    "    imp[key] = np.mean(imp[key])  \n",
    "    \n",
    "print(imp)\n",
    "pyplot.bar(imp.keys(), imp.values())\n",
    "pyplot.xticks(rotation = 45)\n",
    "pyplot.show()\n",
    "\n",
    "print(np.mean(l))"
   ]
  },
  {
   "cell_type": "code",
   "execution_count": 13,
   "metadata": {},
   "outputs": [],
   "source": [
    "for key in imp:\n",
    "    imp[key] = abs(imp[key])\n",
    "\n",
    "imp = {k: v for k, v in sorted(imp.items(), key=lambda item: item[1])}\n",
    "imp\n",
    "for i in list(imp.keys())[0:5]:\n",
    "    dora.remove_feature(i)"
   ]
  },
  {
   "cell_type": "code",
   "execution_count": 14,
   "metadata": {},
   "outputs": [
    {
     "name": "stdout",
     "output_type": "stream",
     "text": [
      "{'volume': -16.49741646117115, 'flow_roll_mean_5': 8.86410442820615, 'flow_roll_mean_10': 3.7930341939060765, 'flow_Z_score_10': 2.2022790520776403, 'flow_roll_var_60': -4.100159948726336, 'flow_Z_score_60': -1.9729113428687275, 'flow_roll_var_250': -8.453543763319024, 'flow_Z_score_250': 3.6392756267698094}\n"
     ]
    },
    {
     "data": {
      "image/png": "[encoded data removed]",
      "text/plain": [
       "<Figure size 432x288 with 1 Axes>"
      ]
     },
     "metadata": {
      "needs_background": "light"
     },
     "output_type": "display_data"
    },
    {
     "name": "stdout",
     "output_type": "stream",
     "text": [
      "-3.7563872480525804\n"
     ]
    }
   ],
   "source": [
    "l = []\n",
    "imp = {}\n",
    "for i in range(1000):\n",
    "    dora.set_training_and_validation()\n",
    "    X = dora.training_data[dora.input_columns()]\n",
    "    y = dora.training_data[dora.output]\n",
    "    reg = model\n",
    "    reg.fit(X, y)\n",
    "    X = dora.validation_data[dora.input_columns()]\n",
    "    y = dora.validation_data[dora.output]\n",
    "    l.append(reg.score(X,y))\n",
    "    importance = reg.coef_\n",
    "    imp\n",
    "    for j,v in enumerate(importance):\n",
    "        if i == 0:\n",
    "            imp[dora.input_columns()[j]] = [v]\n",
    "        else:\n",
    "            imp[dora.input_columns()[j]].append(v)\n",
    "\n",
    "for key in imp:\n",
    "    imp[key] = np.mean(imp[key])  \n",
    "    \n",
    "print(imp)\n",
    "pyplot.bar(imp.keys(), imp.values())\n",
    "pyplot.xticks(rotation = 45)\n",
    "pyplot.show()\n",
    "\n",
    "print(np.mean(l))"
   ]
  },
  {
   "cell_type": "code",
   "execution_count": 15,
   "metadata": {},
   "outputs": [],
   "source": [
    "for key in imp:\n",
    "    imp[key] = abs(imp[key])\n",
    "\n",
    "imp = {k: v for k, v in sorted(imp.items(), key=lambda item: item[1])}\n",
    "imp\n",
    "for i in list(imp.keys())[0:4]:\n",
    "    dora.remove_feature(i)"
   ]
  },
  {
   "cell_type": "code",
   "execution_count": 16,
   "metadata": {},
   "outputs": [
    {
     "name": "stdout",
     "output_type": "stream",
     "text": [
      "{'volume': -8.186082542615814, 'flow_roll_mean_5': 6.277729947309715, 'flow_roll_var_60': -2.9673641077728234, 'flow_roll_var_250': -6.176919286189181}\n"
     ]
    },
    {
     "data": {
      "image/png": "[encoded data removed]",
      "text/plain": [
       "<Figure size 432x288 with 1 Axes>"
      ]
     },
     "metadata": {
      "needs_background": "light"
     },
     "output_type": "display_data"
    },
    {
     "name": "stdout",
     "output_type": "stream",
     "text": [
      "-1.9444193559686007\n"
     ]
    }
   ],
   "source": [
    "l = []\n",
    "imp = {}\n",
    "for i in range(1000):\n",
    "    dora.set_training_and_validation()\n",
    "    X = dora.training_data[dora.input_columns()]\n",
    "    y = dora.training_data[dora.output]\n",
    "    reg = model\n",
    "    reg.fit(X, y)\n",
    "    X = dora.validation_data[dora.input_columns()]\n",
    "    y = dora.validation_data[dora.output]\n",
    "    l.append(reg.score(X,y))\n",
    "    importance = reg.coef_\n",
    "    imp\n",
    "    for j,v in enumerate(importance):\n",
    "        if i == 0:\n",
    "            imp[dora.input_columns()[j]] = [v]\n",
    "        else:\n",
    "            imp[dora.input_columns()[j]].append(v)\n",
    "\n",
    "for key in imp:\n",
    "    imp[key] = np.mean(imp[key])  \n",
    "    \n",
    "print(imp)\n",
    "pyplot.bar(imp.keys(), imp.values())\n",
    "pyplot.xticks(rotation = 45)\n",
    "pyplot.show()\n",
    "\n",
    "print(np.mean(l))"
   ]
  },
  {
   "cell_type": "code",
   "execution_count": 17,
   "metadata": {},
   "outputs": [],
   "source": [
    "for key in imp:\n",
    "    imp[key] = abs(imp[key])\n",
    "\n",
    "imp = {k: v for k, v in sorted(imp.items(), key=lambda item: item[1])}\n",
    "imp\n",
    "for i in list(imp.keys())[0:2]:\n",
    "    dora.remove_feature(i)"
   ]
  },
  {
   "cell_type": "code",
   "execution_count": 18,
   "metadata": {},
   "outputs": [
    {
     "name": "stdout",
     "output_type": "stream",
     "text": [
      "{'volume': -7.752833908488291, 'flow_roll_mean_5': 5.292369651902632}\n"
     ]
    },
    {
     "data": {
      "image/png": "[encoded data removed]",
      "text/plain": [
       "<Figure size 432x288 with 1 Axes>"
      ]
     },
     "metadata": {
      "needs_background": "light"
     },
     "output_type": "display_data"
    },
    {
     "name": "stdout",
     "output_type": "stream",
     "text": [
      "-1.8068908277820492\n"
     ]
    }
   ],
   "source": [
    "l = []\n",
    "imp = {}\n",
    "for i in range(1000):\n",
    "    dora.set_training_and_validation()\n",
    "    X = dora.training_data[dora.input_columns()]\n",
    "    y = dora.training_data[dora.output]\n",
    "    reg = model\n",
    "    reg.fit(X, y)\n",
    "    X = dora.validation_data[dora.input_columns()]\n",
    "    y = dora.validation_data[dora.output]\n",
    "    l.append(reg.score(X,y))\n",
    "    importance = reg.coef_\n",
    "    imp\n",
    "    for j,v in enumerate(importance):\n",
    "        if i == 0:\n",
    "            imp[dora.input_columns()[j]] = [v]\n",
    "        else:\n",
    "            imp[dora.input_columns()[j]].append(v)\n",
    "\n",
    "for key in imp:\n",
    "    imp[key] = np.mean(imp[key])  \n",
    "    \n",
    "print(imp)\n",
    "pyplot.bar(imp.keys(), imp.values())\n",
    "pyplot.xticks(rotation = 45)\n",
    "pyplot.show()\n",
    "\n",
    "print(np.mean(l))"
   ]
  },
  {
   "cell_type": "code",
   "execution_count": 19,
   "metadata": {},
   "outputs": [],
   "source": [
    "for key in imp:\n",
    "    imp[key] = abs(imp[key])\n",
    "\n",
    "imp = {k: v for k, v in sorted(imp.items(), key=lambda item: item[1])}\n",
    "imp\n",
    "for i in list(imp.keys())[0:1]:\n",
    "    dora.remove_feature(i)"
   ]
  },
  {
   "cell_type": "code",
   "execution_count": 20,
   "metadata": {},
   "outputs": [
    {
     "name": "stdout",
     "output_type": "stream",
     "text": [
      "{'volume': -2.717900274289231}\n"
     ]
    },
    {
     "data": {
      "image/png": "[encoded data removed]",
      "text/plain": [
       "<Figure size 432x288 with 1 Axes>"
      ]
     },
     "metadata": {
      "needs_background": "light"
     },
     "output_type": "display_data"
    },
    {
     "name": "stdout",
     "output_type": "stream",
     "text": [
      "-1.8012337411007584\n"
     ]
    }
   ],
   "source": [
    "l = []\n",
    "imp = {}\n",
    "for i in range(1000):\n",
    "    dora.set_training_and_validation()\n",
    "    X = dora.training_data[dora.input_columns()]\n",
    "    y = dora.training_data[dora.output]\n",
    "    reg = model\n",
    "    reg.fit(X, y)\n",
    "    X = dora.validation_data[dora.input_columns()]\n",
    "    y = dora.validation_data[dora.output]\n",
    "    l.append(reg.score(X,y))\n",
    "    importance = reg.coef_\n",
    "    imp\n",
    "    for j,v in enumerate(importance):\n",
    "        if i == 0:\n",
    "            imp[dora.input_columns()[j]] = [v]\n",
    "        else:\n",
    "            imp[dora.input_columns()[j]].append(v)\n",
    "\n",
    "for key in imp:\n",
    "    imp[key] = np.mean(imp[key])  \n",
    "    \n",
    "print(imp)\n",
    "pyplot.bar(imp.keys(), imp.values())\n",
    "pyplot.xticks(rotation = 45)\n",
    "pyplot.show()\n",
    "\n",
    "print(np.mean(l))"
   ]
  },
  {
   "cell_type": "code",
   "execution_count": 21,
   "metadata": {},
   "outputs": [],
   "source": [
    "for key in imp:\n",
    "    imp[key] = abs(imp[key])\n",
    "\n",
    "imp = {k: v for k, v in sorted(imp.items(), key=lambda item: item[1])}\n",
    "imp\n",
    "for i in list(imp.keys())[0:5]:\n",
    "    dora.remove_feature(i)"
   ]
  },
  {
   "cell_type": "code",
   "execution_count": 22,
   "metadata": {},
   "outputs": [
    {
     "ename": "ValueError",
     "evalue": "at least one array or dtype is required",
     "output_type": "error",
     "traceback": [
      "\u001b[1;31m---------------------------------------------------------------------------\u001b[0m",
      "\u001b[1;31mValueError\u001b[0m                                Traceback (most recent call last)",
      "\u001b[1;32m<ipython-input-22-837d13b1179d>\u001b[0m in \u001b[0;36m<module>\u001b[1;34m\u001b[0m\n\u001b[0;32m      6\u001b[0m     \u001b[0my\u001b[0m \u001b[1;33m=\u001b[0m \u001b[0mdora\u001b[0m\u001b[1;33m.\u001b[0m\u001b[0mtraining_data\u001b[0m\u001b[1;33m[\u001b[0m\u001b[0mdora\u001b[0m\u001b[1;33m.\u001b[0m\u001b[0moutput\u001b[0m\u001b[1;33m]\u001b[0m\u001b[1;33m\u001b[0m\u001b[1;33m\u001b[0m\u001b[0m\n\u001b[0;32m      7\u001b[0m     \u001b[0mreg\u001b[0m \u001b[1;33m=\u001b[0m \u001b[0mmodel\u001b[0m\u001b[1;33m\u001b[0m\u001b[1;33m\u001b[0m\u001b[0m\n\u001b[1;32m----> 8\u001b[1;33m     \u001b[0mreg\u001b[0m\u001b[1;33m.\u001b[0m\u001b[0mfit\u001b[0m\u001b[1;33m(\u001b[0m\u001b[0mX\u001b[0m\u001b[1;33m,\u001b[0m \u001b[0my\u001b[0m\u001b[1;33m)\u001b[0m\u001b[1;33m\u001b[0m\u001b[1;33m\u001b[0m\u001b[0m\n\u001b[0m\u001b[0;32m      9\u001b[0m     \u001b[0mX\u001b[0m \u001b[1;33m=\u001b[0m \u001b[0mdora\u001b[0m\u001b[1;33m.\u001b[0m\u001b[0mvalidation_data\u001b[0m\u001b[1;33m[\u001b[0m\u001b[0mdora\u001b[0m\u001b[1;33m.\u001b[0m\u001b[0minput_columns\u001b[0m\u001b[1;33m(\u001b[0m\u001b[1;33m)\u001b[0m\u001b[1;33m]\u001b[0m\u001b[1;33m\u001b[0m\u001b[1;33m\u001b[0m\u001b[0m\n\u001b[0;32m     10\u001b[0m     \u001b[0my\u001b[0m \u001b[1;33m=\u001b[0m \u001b[0mdora\u001b[0m\u001b[1;33m.\u001b[0m\u001b[0mvalidation_data\u001b[0m\u001b[1;33m[\u001b[0m\u001b[0mdora\u001b[0m\u001b[1;33m.\u001b[0m\u001b[0moutput\u001b[0m\u001b[1;33m]\u001b[0m\u001b[1;33m\u001b[0m\u001b[1;33m\u001b[0m\u001b[0m\n",
      "\u001b[1;32m~\\My_IT_Applications\\Anaconda\\lib\\site-packages\\sklearn\\linear_model\\_base.py\u001b[0m in \u001b[0;36mfit\u001b[1;34m(self, X, y, sample_weight)\u001b[0m\n\u001b[0;32m    503\u001b[0m \u001b[1;33m\u001b[0m\u001b[0m\n\u001b[0;32m    504\u001b[0m         \u001b[0mn_jobs_\u001b[0m \u001b[1;33m=\u001b[0m \u001b[0mself\u001b[0m\u001b[1;33m.\u001b[0m\u001b[0mn_jobs\u001b[0m\u001b[1;33m\u001b[0m\u001b[1;33m\u001b[0m\u001b[0m\n\u001b[1;32m--> 505\u001b[1;33m         X, y = self._validate_data(X, y, accept_sparse=['csr', 'csc', 'coo'],\n\u001b[0m\u001b[0;32m    506\u001b[0m                                    y_numeric=True, multi_output=True)\n\u001b[0;32m    507\u001b[0m \u001b[1;33m\u001b[0m\u001b[0m\n",
      "\u001b[1;32m~\\My_IT_Applications\\Anaconda\\lib\\site-packages\\sklearn\\base.py\u001b[0m in \u001b[0;36m_validate_data\u001b[1;34m(self, X, y, reset, validate_separately, **check_params)\u001b[0m\n\u001b[0;32m    430\u001b[0m                 \u001b[0my\u001b[0m \u001b[1;33m=\u001b[0m \u001b[0mcheck_array\u001b[0m\u001b[1;33m(\u001b[0m\u001b[0my\u001b[0m\u001b[1;33m,\u001b[0m \u001b[1;33m**\u001b[0m\u001b[0mcheck_y_params\u001b[0m\u001b[1;33m)\u001b[0m\u001b[1;33m\u001b[0m\u001b[1;33m\u001b[0m\u001b[0m\n\u001b[0;32m    431\u001b[0m             \u001b[1;32melse\u001b[0m\u001b[1;33m:\u001b[0m\u001b[1;33m\u001b[0m\u001b[1;33m\u001b[0m\u001b[0m\n\u001b[1;32m--> 432\u001b[1;33m                 \u001b[0mX\u001b[0m\u001b[1;33m,\u001b[0m \u001b[0my\u001b[0m \u001b[1;33m=\u001b[0m \u001b[0mcheck_X_y\u001b[0m\u001b[1;33m(\u001b[0m\u001b[0mX\u001b[0m\u001b[1;33m,\u001b[0m \u001b[0my\u001b[0m\u001b[1;33m,\u001b[0m \u001b[1;33m**\u001b[0m\u001b[0mcheck_params\u001b[0m\u001b[1;33m)\u001b[0m\u001b[1;33m\u001b[0m\u001b[1;33m\u001b[0m\u001b[0m\n\u001b[0m\u001b[0;32m    433\u001b[0m             \u001b[0mout\u001b[0m \u001b[1;33m=\u001b[0m \u001b[0mX\u001b[0m\u001b[1;33m,\u001b[0m \u001b[0my\u001b[0m\u001b[1;33m\u001b[0m\u001b[1;33m\u001b[0m\u001b[0m\n\u001b[0;32m    434\u001b[0m \u001b[1;33m\u001b[0m\u001b[0m\n",
      "\u001b[1;32m~\\My_IT_Applications\\Anaconda\\lib\\site-packages\\sklearn\\utils\\validation.py\u001b[0m in \u001b[0;36minner_f\u001b[1;34m(*args, **kwargs)\u001b[0m\n\u001b[0;32m     70\u001b[0m                           FutureWarning)\n\u001b[0;32m     71\u001b[0m         \u001b[0mkwargs\u001b[0m\u001b[1;33m.\u001b[0m\u001b[0mupdate\u001b[0m\u001b[1;33m(\u001b[0m\u001b[1;33m{\u001b[0m\u001b[0mk\u001b[0m\u001b[1;33m:\u001b[0m \u001b[0marg\u001b[0m \u001b[1;32mfor\u001b[0m \u001b[0mk\u001b[0m\u001b[1;33m,\u001b[0m \u001b[0marg\u001b[0m \u001b[1;32min\u001b[0m \u001b[0mzip\u001b[0m\u001b[1;33m(\u001b[0m\u001b[0msig\u001b[0m\u001b[1;33m.\u001b[0m\u001b[0mparameters\u001b[0m\u001b[1;33m,\u001b[0m \u001b[0margs\u001b[0m\u001b[1;33m)\u001b[0m\u001b[1;33m}\u001b[0m\u001b[1;33m)\u001b[0m\u001b[1;33m\u001b[0m\u001b[1;33m\u001b[0m\u001b[0m\n\u001b[1;32m---> 72\u001b[1;33m         \u001b[1;32mreturn\u001b[0m \u001b[0mf\u001b[0m\u001b[1;33m(\u001b[0m\u001b[1;33m**\u001b[0m\u001b[0mkwargs\u001b[0m\u001b[1;33m)\u001b[0m\u001b[1;33m\u001b[0m\u001b[1;33m\u001b[0m\u001b[0m\n\u001b[0m\u001b[0;32m     73\u001b[0m     \u001b[1;32mreturn\u001b[0m \u001b[0minner_f\u001b[0m\u001b[1;33m\u001b[0m\u001b[1;33m\u001b[0m\u001b[0m\n\u001b[0;32m     74\u001b[0m \u001b[1;33m\u001b[0m\u001b[0m\n",
      "\u001b[1;32m~\\My_IT_Applications\\Anaconda\\lib\\site-packages\\sklearn\\utils\\validation.py\u001b[0m in \u001b[0;36mcheck_X_y\u001b[1;34m(X, y, accept_sparse, accept_large_sparse, dtype, order, copy, force_all_finite, ensure_2d, allow_nd, multi_output, ensure_min_samples, ensure_min_features, y_numeric, estimator)\u001b[0m\n\u001b[0;32m    793\u001b[0m         \u001b[1;32mraise\u001b[0m \u001b[0mValueError\u001b[0m\u001b[1;33m(\u001b[0m\u001b[1;34m\"y cannot be None\"\u001b[0m\u001b[1;33m)\u001b[0m\u001b[1;33m\u001b[0m\u001b[1;33m\u001b[0m\u001b[0m\n\u001b[0;32m    794\u001b[0m \u001b[1;33m\u001b[0m\u001b[0m\n\u001b[1;32m--> 795\u001b[1;33m     X = check_array(X, accept_sparse=accept_sparse,\n\u001b[0m\u001b[0;32m    796\u001b[0m                     \u001b[0maccept_large_sparse\u001b[0m\u001b[1;33m=\u001b[0m\u001b[0maccept_large_sparse\u001b[0m\u001b[1;33m,\u001b[0m\u001b[1;33m\u001b[0m\u001b[1;33m\u001b[0m\u001b[0m\n\u001b[0;32m    797\u001b[0m                     \u001b[0mdtype\u001b[0m\u001b[1;33m=\u001b[0m\u001b[0mdtype\u001b[0m\u001b[1;33m,\u001b[0m \u001b[0morder\u001b[0m\u001b[1;33m=\u001b[0m\u001b[0morder\u001b[0m\u001b[1;33m,\u001b[0m \u001b[0mcopy\u001b[0m\u001b[1;33m=\u001b[0m\u001b[0mcopy\u001b[0m\u001b[1;33m,\u001b[0m\u001b[1;33m\u001b[0m\u001b[1;33m\u001b[0m\u001b[0m\n",
      "\u001b[1;32m~\\My_IT_Applications\\Anaconda\\lib\\site-packages\\sklearn\\utils\\validation.py\u001b[0m in \u001b[0;36minner_f\u001b[1;34m(*args, **kwargs)\u001b[0m\n\u001b[0;32m     70\u001b[0m                           FutureWarning)\n\u001b[0;32m     71\u001b[0m         \u001b[0mkwargs\u001b[0m\u001b[1;33m.\u001b[0m\u001b[0mupdate\u001b[0m\u001b[1;33m(\u001b[0m\u001b[1;33m{\u001b[0m\u001b[0mk\u001b[0m\u001b[1;33m:\u001b[0m \u001b[0marg\u001b[0m \u001b[1;32mfor\u001b[0m \u001b[0mk\u001b[0m\u001b[1;33m,\u001b[0m \u001b[0marg\u001b[0m \u001b[1;32min\u001b[0m \u001b[0mzip\u001b[0m\u001b[1;33m(\u001b[0m\u001b[0msig\u001b[0m\u001b[1;33m.\u001b[0m\u001b[0mparameters\u001b[0m\u001b[1;33m,\u001b[0m \u001b[0margs\u001b[0m\u001b[1;33m)\u001b[0m\u001b[1;33m}\u001b[0m\u001b[1;33m)\u001b[0m\u001b[1;33m\u001b[0m\u001b[1;33m\u001b[0m\u001b[0m\n\u001b[1;32m---> 72\u001b[1;33m         \u001b[1;32mreturn\u001b[0m \u001b[0mf\u001b[0m\u001b[1;33m(\u001b[0m\u001b[1;33m**\u001b[0m\u001b[0mkwargs\u001b[0m\u001b[1;33m)\u001b[0m\u001b[1;33m\u001b[0m\u001b[1;33m\u001b[0m\u001b[0m\n\u001b[0m\u001b[0;32m     73\u001b[0m     \u001b[1;32mreturn\u001b[0m \u001b[0minner_f\u001b[0m\u001b[1;33m\u001b[0m\u001b[1;33m\u001b[0m\u001b[0m\n\u001b[0;32m     74\u001b[0m \u001b[1;33m\u001b[0m\u001b[0m\n",
      "\u001b[1;32m~\\My_IT_Applications\\Anaconda\\lib\\site-packages\\sklearn\\utils\\validation.py\u001b[0m in \u001b[0;36mcheck_array\u001b[1;34m(array, accept_sparse, accept_large_sparse, dtype, order, copy, force_all_finite, ensure_2d, allow_nd, ensure_min_samples, ensure_min_features, estimator)\u001b[0m\n\u001b[0;32m    531\u001b[0m \u001b[1;33m\u001b[0m\u001b[0m\n\u001b[0;32m    532\u001b[0m         \u001b[1;32mif\u001b[0m \u001b[0mall\u001b[0m\u001b[1;33m(\u001b[0m\u001b[0misinstance\u001b[0m\u001b[1;33m(\u001b[0m\u001b[0mdtype\u001b[0m\u001b[1;33m,\u001b[0m \u001b[0mnp\u001b[0m\u001b[1;33m.\u001b[0m\u001b[0mdtype\u001b[0m\u001b[1;33m)\u001b[0m \u001b[1;32mfor\u001b[0m \u001b[0mdtype\u001b[0m \u001b[1;32min\u001b[0m \u001b[0mdtypes_orig\u001b[0m\u001b[1;33m)\u001b[0m\u001b[1;33m:\u001b[0m\u001b[1;33m\u001b[0m\u001b[1;33m\u001b[0m\u001b[0m\n\u001b[1;32m--> 533\u001b[1;33m             \u001b[0mdtype_orig\u001b[0m \u001b[1;33m=\u001b[0m \u001b[0mnp\u001b[0m\u001b[1;33m.\u001b[0m\u001b[0mresult_type\u001b[0m\u001b[1;33m(\u001b[0m\u001b[1;33m*\u001b[0m\u001b[0mdtypes_orig\u001b[0m\u001b[1;33m)\u001b[0m\u001b[1;33m\u001b[0m\u001b[1;33m\u001b[0m\u001b[0m\n\u001b[0m\u001b[0;32m    534\u001b[0m \u001b[1;33m\u001b[0m\u001b[0m\n\u001b[0;32m    535\u001b[0m     \u001b[1;32mif\u001b[0m \u001b[0mdtype_numeric\u001b[0m\u001b[1;33m:\u001b[0m\u001b[1;33m\u001b[0m\u001b[1;33m\u001b[0m\u001b[0m\n",
      "\u001b[1;32m<__array_function__ internals>\u001b[0m in \u001b[0;36mresult_type\u001b[1;34m(*args, **kwargs)\u001b[0m\n",
      "\u001b[1;31mValueError\u001b[0m: at least one array or dtype is required"
     ]
    }
   ],
   "source": [
    "l = []\n",
    "imp = {}\n",
    "for i in range(1000):\n",
    "    dora.set_training_and_validation()\n",
    "    X = dora.training_data[dora.input_columns()]\n",
    "    y = dora.training_data[dora.output]\n",
    "    reg = model\n",
    "    reg.fit(X, y)\n",
    "    X = dora.validation_data[dora.input_columns()]\n",
    "    y = dora.validation_data[dora.output]\n",
    "    l.append(reg.score(X,y))\n",
    "    importance = reg.coef_\n",
    "    imp\n",
    "    for j,v in enumerate(importance):\n",
    "        if i == 0:\n",
    "            imp[dora.input_columns()[j]] = [v]\n",
    "        else:\n",
    "            imp[dora.input_columns()[j]].append(v)\n",
    "\n",
    "for key in imp:\n",
    "    imp[key] = np.mean(imp[key])  \n",
    "    \n",
    "print(imp)\n",
    "pyplot.bar(imp.keys(), imp.values())\n",
    "pyplot.xticks(rotation = 45)\n",
    "pyplot.show()\n",
    "\n",
    "print(np.mean(l))"
   ]
  },
  {
   "cell_type": "code",
   "execution_count": null,
   "metadata": {},
   "outputs": [],
   "source": [
    "for key in imp:\n",
    "    imp[key] = abs(imp[key])\n",
    "\n",
    "imp = {k: v for k, v in sorted(imp.items(), key=lambda item: item[1])}\n",
    "imp\n",
    "for i in list(imp.keys())[0:3]:\n",
    "    dora.remove_feature(i)"
   ]
  },
  {
   "cell_type": "code",
   "execution_count": null,
   "metadata": {},
   "outputs": [],
   "source": [
    "l = []\n",
    "imp = {}\n",
    "for i in range(1000):\n",
    "    dora.set_training_and_validation()\n",
    "    X = dora.training_data[dora.input_columns()]\n",
    "    y = dora.training_data[dora.output]\n",
    "    reg = model\n",
    "    reg.fit(X, y)\n",
    "    X = dora.validation_data[dora.input_columns()]\n",
    "    y = dora.validation_data[dora.output]\n",
    "    l.append(reg.score(X,y))\n",
    "    importance = reg.coef_\n",
    "    imp\n",
    "    for j,v in enumerate(importance):\n",
    "        if i == 0:\n",
    "            imp[dora.input_columns()[j]] = [v]\n",
    "        else:\n",
    "            imp[dora.input_columns()[j]].append(v)\n",
    "\n",
    "for key in imp:\n",
    "    imp[key] = np.mean(imp[key])  \n",
    "    \n",
    "print(imp)\n",
    "pyplot.bar(imp.keys(), imp.values())\n",
    "pyplot.xticks(rotation = 45)\n",
    "pyplot.show()\n",
    "\n",
    "print(np.mean(l))"
   ]
  },
  {
   "cell_type": "code",
   "execution_count": null,
   "metadata": {},
   "outputs": [],
   "source": [
    "for key in imp:\n",
    "    imp[key] = abs(imp[key])\n",
    "\n",
    "imp = {k: v for k, v in sorted(imp.items(), key=lambda item: item[1])}\n",
    "imp\n",
    "for i in list(imp.keys())[0:3]:\n",
    "    dora.remove_feature(i)"
   ]
  },
  {
   "cell_type": "code",
   "execution_count": null,
   "metadata": {},
   "outputs": [],
   "source": [
    "l = []\n",
    "imp = {}\n",
    "for i in range(1000):\n",
    "    dora.set_training_and_validation()\n",
    "    X = dora.training_data[dora.input_columns()]\n",
    "    y = dora.training_data[dora.output]\n",
    "    reg = model\n",
    "    reg.fit(X, y)\n",
    "    X = dora.validation_data[dora.input_columns()]\n",
    "    y = dora.validation_data[dora.output]\n",
    "    l.append(reg.score(X,y))\n",
    "    importance = reg.coef_\n",
    "    imp\n",
    "    for j,v in enumerate(importance):\n",
    "        if i == 0:\n",
    "            imp[dora.input_columns()[j]] = [v]\n",
    "        else:\n",
    "            imp[dora.input_columns()[j]].append(v)\n",
    "\n",
    "for key in imp:\n",
    "    imp[key] = np.mean(imp[key])  \n",
    "    \n",
    "print(imp)\n",
    "pyplot.bar(imp.keys(), imp.values())\n",
    "pyplot.xticks(rotation = 45)\n",
    "pyplot.show()\n",
    "\n",
    "print(np.mean(l))"
   ]
  },
  {
   "cell_type": "code",
   "execution_count": null,
   "metadata": {},
   "outputs": [],
   "source": [
    "for key in imp:\n",
    "    imp[key] = abs(imp[key])\n",
    "\n",
    "imp = {k: v for k, v in sorted(imp.items(), key=lambda item: item[1])}\n",
    "imp\n",
    "for i in list(imp.keys())[0:3]:\n",
    "    dora.remove_feature(i)"
   ]
  },
  {
   "cell_type": "code",
   "execution_count": null,
   "metadata": {},
   "outputs": [],
   "source": [
    "l = []\n",
    "imp = {}\n",
    "for i in range(1000):\n",
    "    dora.set_training_and_validation()\n",
    "    X = dora.training_data[dora.input_columns()]\n",
    "    y = dora.training_data[dora.output]\n",
    "    reg = model\n",
    "    reg.fit(X, y)\n",
    "    X = dora.validation_data[dora.input_columns()]\n",
    "    y = dora.validation_data[dora.output]\n",
    "    l.append(reg.score(X,y))\n",
    "    importance = reg.coef_\n",
    "    imp\n",
    "    for j,v in enumerate(importance):\n",
    "        if i == 0:\n",
    "            imp[dora.input_columns()[j]] = [v]\n",
    "        else:\n",
    "            imp[dora.input_columns()[j]].append(v)\n",
    "\n",
    "for key in imp:\n",
    "    imp[key] = np.mean(imp[key])  \n",
    "    \n",
    "print(imp)\n",
    "pyplot.bar(imp.keys(), imp.values())\n",
    "pyplot.xticks(rotation = 45)\n",
    "pyplot.show()\n",
    "\n",
    "print(np.mean(l))"
   ]
  },
  {
   "cell_type": "code",
   "execution_count": null,
   "metadata": {},
   "outputs": [],
   "source": [
    "for key in imp:\n",
    "    imp[key] = abs(imp[key])\n",
    "\n",
    "imp = {k: v for k, v in sorted(imp.items(), key=lambda item: item[1])}\n",
    "imp\n",
    "for i in list(imp.keys())[0:5]:\n",
    "    dora.remove_feature(i)"
   ]
  },
  {
   "cell_type": "code",
   "execution_count": null,
   "metadata": {},
   "outputs": [],
   "source": [
    "l = []\n",
    "imp = {}\n",
    "for i in range(1000):\n",
    "    dora.set_training_and_validation()\n",
    "    X = dora.training_data[dora.input_columns()]\n",
    "    y = dora.training_data[dora.output]\n",
    "    reg = model\n",
    "    reg.fit(X, y)\n",
    "    X = dora.validation_data[dora.input_columns()]\n",
    "    y = dora.validation_data[dora.output]\n",
    "    l.append(reg.score(X,y))\n",
    "    importance = reg.coef_\n",
    "    imp\n",
    "    for j,v in enumerate(importance):\n",
    "        if i == 0:\n",
    "            imp[dora.input_columns()[j]] = [v]\n",
    "        else:\n",
    "            imp[dora.input_columns()[j]].append(v)\n",
    "\n",
    "for key in imp:\n",
    "    imp[key] = np.mean(imp[key])  \n",
    "    \n",
    "print(imp)\n",
    "pyplot.bar(imp.keys(), imp.values())\n",
    "pyplot.xticks(rotation = 45)\n",
    "pyplot.show()\n",
    "\n",
    "print(np.mean(l))"
   ]
  },
  {
   "cell_type": "code",
   "execution_count": null,
   "metadata": {},
   "outputs": [],
   "source": [
    "for key in imp:\n",
    "    imp[key] = abs(imp[key])\n",
    "\n",
    "imp = {k: v for k, v in sorted(imp.items(), key=lambda item: item[1])}\n",
    "imp\n",
    "for i in list(imp.keys())[0:1]:\n",
    "    dora.remove_feature(i)"
   ]
  },
  {
   "cell_type": "code",
   "execution_count": null,
   "metadata": {},
   "outputs": [],
   "source": [
    "l = []\n",
    "imp = {}\n",
    "for i in range(1000):\n",
    "    dora.set_training_and_validation()\n",
    "    X = dora.training_data[dora.input_columns()]\n",
    "    y = dora.training_data[dora.output]\n",
    "    reg = model\n",
    "    reg.fit(X, y)\n",
    "    X = dora.validation_data[dora.input_columns()]\n",
    "    y = dora.validation_data[dora.output]\n",
    "    l.append(reg.score(X,y))\n",
    "    importance = reg.coef_\n",
    "    imp\n",
    "    for j,v in enumerate(importance):\n",
    "        if i == 0:\n",
    "            imp[dora.input_columns()[j]] = [v]\n",
    "        else:\n",
    "            imp[dora.input_columns()[j]].append(v)\n",
    "\n",
    "for key in imp:\n",
    "    imp[key] = np.mean(imp[key])  \n",
    "    \n",
    "print(imp)\n",
    "pyplot.bar(imp.keys(), imp.values())\n",
    "pyplot.xticks(rotation = 45)\n",
    "pyplot.show()\n",
    "\n",
    "print(np.mean(l))"
   ]
  },
  {
   "cell_type": "code",
   "execution_count": null,
   "metadata": {},
   "outputs": [],
   "source": []
  },
  {
   "cell_type": "code",
   "execution_count": null,
   "metadata": {},
   "outputs": [],
   "source": []
  },
  {
   "cell_type": "code",
   "execution_count": null,
   "metadata": {},
   "outputs": [],
   "source": [
    "df = pd.read_excel('spread.xlsx', index_col=(0))\n",
    "df.rename(columns={'rfq':'volume'}, inplace=True)\n",
    "df.spread = df.iloc[::-1].rolling(5).apply(lambda x: pd.np.sum(x))['spread'][::-1]\n",
    "df.volume = df.rolling(5).apply(lambda x: pd.np.sum(x))['volume']\n",
    "df.dropna(inplace=True)\n",
    "dora = Dora(output = 'spread', data = df)\n",
    "\n",
    "def new_set_training_and_validation(self):\n",
    "    training_rows = np.arange(0,len(self.data))/len(self.data) < 0.8\n",
    "    a = np.random.randint(0,len(self.data))\n",
    "    training_rows = list(training_rows[a:]) + list(training_rows[:a])\n",
    "    training_rows = np.array(training_rows)\n",
    "    self.training_data = self.data[training_rows]\n",
    "    self.validation_data = self.data[~training_rows]\n",
    "\n",
    "dora.set_training_and_validation = MethodType(new_set_training_and_validation, dora)\n",
    "\n",
    "#for i in range(dora.data.shape[0]):\n",
    "#    dora.data['volume'].iloc[i] = random.randint(-10,10)\n",
    "dora.snapshot('transform1')\n",
    "dora.data"
   ]
  },
  {
   "cell_type": "code",
   "execution_count": null,
   "metadata": {},
   "outputs": [],
   "source": [
    "from sklearn.metrics import mean_squared_error, r2_score\n",
    "import matplotlib.pyplot as plt\n",
    "\n",
    "dora.set_training_and_validation()\n",
    "X = dora.training_data[dora.input_columns()]\n",
    "y = dora.training_data[dora.output]\n",
    "reg = model\n",
    "reg.fit(X, y)\n",
    "Xt = dora.validation_data[dora.input_columns()]\n",
    "yt = dora.validation_data[dora.output]\n",
    "\n",
    "yp = reg.predict(Xt)\n",
    "\n",
    "# The coefficients\n",
    "print(\"Coefficients: \\n\", reg.coef_)\n",
    "# The mean squared error\n",
    "print(\"Mean squared error: %.2f\" % mean_squared_error(yt, yp))\n",
    "# The coefficient of determination: 1 is perfect prediction\n",
    "print(\"Coefficient of determination: %.2f\" % r2_score(yt, yp))\n",
    "\n",
    "# Plot outputs\n",
    "plt.scatter(Xt, yt, color=\"black\")\n",
    "plt.plot(Xt, yp, color=\"blue\", linewidth=3)\n",
    "\n",
    "plt.xticks(())\n",
    "plt.yticks(())\n",
    "\n",
    "plt.show()"
   ]
  },
  {
   "cell_type": "code",
   "execution_count": null,
   "metadata": {},
   "outputs": [],
   "source": []
  }
 ],
 "metadata": {
  "kernelspec": {
   "display_name": "Python (my_env)",
   "language": "python",
   "name": "my_env"
  },
  "language_info": {
   "codemirror_mode": {
    "name": "ipython",
    "version": 3
   },
   "file_extension": ".py",
   "mimetype": "text/x-python",
   "name": "python",
   "nbconvert_exporter": "python",
   "pygments_lexer": "ipython3",
   "version": "3.8.5"
  }
 },
 "nbformat": 4,
 "nbformat_minor": 4
}
