{
 "cells": [
  {
   "cell_type": "code",
   "execution_count": 1,
   "metadata": {},
   "outputs": [],
   "source": [
    "import pandas as pd \n",
    "import numpy as np\n",
    "import f \n",
    "from Dora import Dora \n",
    "from matplotlib import pyplot\n",
    "import math\n",
    "import random\n",
    "from matplotlib.patches import Rectangle\n",
    "from types import MethodType\n",
    "import matplotlib.dates as mdates\n",
    "import datetime\n",
    "from sklearn.metrics import mean_squared_error, r2_score\n",
    "import matplotlib.pyplot as plt"
   ]
  },
  {
   "cell_type": "code",
   "execution_count": 2,
   "metadata": {},
   "outputs": [],
   "source": [
    "from sklearn import linear_model\n",
    "model = linear_model.LinearRegression()"
   ]
  },
  {
   "cell_type": "code",
   "execution_count": 3,
   "metadata": {},
   "outputs": [
    {
     "name": "stderr",
     "output_type": "stream",
     "text": [
      "<ipython-input-3-07b9538368d7>:3: FutureWarning: The pandas.np module is deprecated and will be removed from pandas in a future version. Import numpy directly instead\n",
      "  df.spread = df.iloc[::-1].rolling(5).apply(lambda x: pd.np.sum(x))['spread'][::-1]\n",
      "<ipython-input-3-07b9538368d7>:4: FutureWarning: The pandas.np module is deprecated and will be removed from pandas in a future version. Import numpy directly instead\n",
      "  df.volume = df.rolling(5).apply(lambda x: pd.np.sum(x))['volume']\n"
     ]
    },
    {
     "data": {
      "text/html": [
       "<div>\n",
       "<style scoped>\n",
       "    .dataframe tbody tr th:only-of-type {\n",
       "        vertical-align: middle;\n",
       "    }\n",
       "\n",
       "    .dataframe tbody tr th {\n",
       "        vertical-align: top;\n",
       "    }\n",
       "\n",
       "    .dataframe thead th {\n",
       "        text-align: right;\n",
       "    }\n",
       "</style>\n",
       "<table border=\"1\" class=\"dataframe\">\n",
       "  <thead>\n",
       "    <tr style=\"text-align: right;\">\n",
       "      <th></th>\n",
       "      <th>spread</th>\n",
       "      <th>volume</th>\n",
       "    </tr>\n",
       "  </thead>\n",
       "  <tbody>\n",
       "    <tr>\n",
       "      <th>2017-01-09</th>\n",
       "      <td>1.592357</td>\n",
       "      <td>-300000.0</td>\n",
       "    </tr>\n",
       "    <tr>\n",
       "      <th>2017-01-10</th>\n",
       "      <td>3.668076</td>\n",
       "      <td>50000.0</td>\n",
       "    </tr>\n",
       "    <tr>\n",
       "      <th>2017-01-11</th>\n",
       "      <td>3.906081</td>\n",
       "      <td>-1450000.0</td>\n",
       "    </tr>\n",
       "    <tr>\n",
       "      <th>2017-01-12</th>\n",
       "      <td>2.111286</td>\n",
       "      <td>-1271000.0</td>\n",
       "    </tr>\n",
       "    <tr>\n",
       "      <th>2017-01-13</th>\n",
       "      <td>-2.021943</td>\n",
       "      <td>674000.0</td>\n",
       "    </tr>\n",
       "    <tr>\n",
       "      <th>...</th>\n",
       "      <td>...</td>\n",
       "      <td>...</td>\n",
       "    </tr>\n",
       "    <tr>\n",
       "      <th>2022-03-14</th>\n",
       "      <td>0.068082</td>\n",
       "      <td>-568000.0</td>\n",
       "    </tr>\n",
       "    <tr>\n",
       "      <th>2022-03-15</th>\n",
       "      <td>-0.443044</td>\n",
       "      <td>-618000.0</td>\n",
       "    </tr>\n",
       "    <tr>\n",
       "      <th>2022-03-16</th>\n",
       "      <td>-0.947667</td>\n",
       "      <td>-1440000.0</td>\n",
       "    </tr>\n",
       "    <tr>\n",
       "      <th>2022-03-17</th>\n",
       "      <td>-0.851425</td>\n",
       "      <td>-1022000.0</td>\n",
       "    </tr>\n",
       "    <tr>\n",
       "      <th>2022-03-18</th>\n",
       "      <td>-0.532784</td>\n",
       "      <td>-822000.0</td>\n",
       "    </tr>\n",
       "  </tbody>\n",
       "</table>\n",
       "<p>1317 rows × 2 columns</p>\n",
       "</div>"
      ],
      "text/plain": [
       "              spread     volume\n",
       "2017-01-09  1.592357  -300000.0\n",
       "2017-01-10  3.668076    50000.0\n",
       "2017-01-11  3.906081 -1450000.0\n",
       "2017-01-12  2.111286 -1271000.0\n",
       "2017-01-13 -2.021943   674000.0\n",
       "...              ...        ...\n",
       "2022-03-14  0.068082  -568000.0\n",
       "2022-03-15 -0.443044  -618000.0\n",
       "2022-03-16 -0.947667 -1440000.0\n",
       "2022-03-17 -0.851425 -1022000.0\n",
       "2022-03-18 -0.532784  -822000.0\n",
       "\n",
       "[1317 rows x 2 columns]"
      ]
     },
     "execution_count": 3,
     "metadata": {},
     "output_type": "execute_result"
    }
   ],
   "source": [
    "df = pd.read_excel('spread.xlsx', index_col=(0))\n",
    "df.rename(columns={'rfq':'volume'}, inplace=True)\n",
    "df.spread = df.iloc[::-1].rolling(5).apply(lambda x: pd.np.sum(x))['spread'][::-1]\n",
    "df.volume = df.rolling(5).apply(lambda x: pd.np.sum(x))['volume']\n",
    "df.dropna(inplace=True)\n",
    "dora = Dora(output = 'spread', data = df)\n",
    "\n",
    "def new_set_training_and_validation(self):\n",
    "    training_rows = np.arange(0,len(self.data))/len(self.data) < 0.8\n",
    "    a = np.random.randint(0,len(self.data))\n",
    "    training_rows = list(training_rows[a:]) + list(training_rows[:a])\n",
    "    training_rows = np.array(training_rows)\n",
    "    self.training_data = self.data[training_rows]\n",
    "    self.validation_data = self.data[~training_rows]\n",
    "\n",
    "dora.set_training_and_validation = MethodType(new_set_training_and_validation, dora)\n",
    "\n",
    "#for i in range(dora.data.shape[0]):\n",
    "#    dora.data['volume'].iloc[i] = random.randint(-10,10)\n",
    "dora.snapshot('transform1')\n",
    "dora.data"
   ]
  },
  {
   "cell_type": "code",
   "execution_count": 4,
   "metadata": {},
   "outputs": [],
   "source": [
    "dora.use_snapshot('transform1')\n",
    "dora.snapshot('transform2')\n",
    "dora.use_snapshot('transform2')"
   ]
  },
  {
   "cell_type": "code",
   "execution_count": null,
   "metadata": {},
   "outputs": [],
   "source": []
  },
  {
   "cell_type": "code",
   "execution_count": null,
   "metadata": {},
   "outputs": [],
   "source": []
  }
 ],
 "metadata": {
  "kernelspec": {
   "display_name": "Python (my_env)",
   "language": "python",
   "name": "my_env"
  },
  "language_info": {
   "codemirror_mode": {
    "name": "ipython",
    "version": 3
   },
   "file_extension": ".py",
   "mimetype": "text/x-python",
   "name": "python",
   "nbconvert_exporter": "python",
   "pygments_lexer": "ipython3",
   "version": "3.8.5"
  }
 },
 "nbformat": 4,
 "nbformat_minor": 4
}
